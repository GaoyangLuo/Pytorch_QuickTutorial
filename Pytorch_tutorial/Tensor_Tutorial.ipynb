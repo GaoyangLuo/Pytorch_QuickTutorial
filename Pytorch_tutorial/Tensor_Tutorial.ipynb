{
 "cells": [
  {
   "cell_type": "markdown",
   "metadata": {},
   "source": [
    "# Complete Pytorch Tensor Tutorial (Initializing Tensors, Math, Indexing, Reshaping)\n",
    "\n",
    "In this tutorial we go through the basics you need to know about the basics of tensors and a lot of useful tensor operations. I believe knowing about these operations are an essential part of Pytorch and is a foundation that will help as you go further in your deep learning journey. Pytorch is in many ways an extension of NumPy with the ability to work on the GPU and these operations are very similar to what you would see in NumPy so knowing this will also allow you to quicker learn NumPy in the future.\n",
    "\n",
    "From YouTube channel: https://www.youtube.com/watch?v=x9JiIFvlUwk"
   ]
  },
  {
   "cell_type": "code",
   "execution_count": 3,
   "metadata": {},
   "outputs": [
    {
     "name": "stdout",
     "output_type": "stream",
     "text": [
      "torch.float32\n",
      "cuda:0\n",
      "torch.Size([2, 3])\n",
      "True\n",
      "boolen is like tensor([False,  True,  True,  True])\n",
      "int16 is like tensor([0, 1, 2, 3], dtype=torch.int16)\n",
      "in64 is like tensor([0, 1, 2, 3])\n",
      "float 16 is like tensor([0., 1., 2., 3.], dtype=torch.float16)\n",
      "float 32 is like tensor([0., 1., 2., 3.])\n",
      "float 64 is like tensor([0., 1., 2., 3.], dtype=torch.float64)\n"
     ]
    }
   ],
   "source": [
    "import torch\n",
    "\n",
    "# ==================================================================== #\n",
    "#                          Initializing Tensor                         #\n",
    "# ==================================================================== #\n",
    "\n",
    "# print(\"Torch version is {0}\".format(torch.__version__))\n",
    "\n",
    "device = \"cuda\" if torch.cuda.is_available() else \"cpu\"\n",
    "\n",
    "\n",
    "\n",
    "my_tensor = torch.tensor([[1,2,3], [4,5,6]], dtype=torch.float32, \n",
    "                         device=device, requires_grad=True)\n",
    "\n",
    "print(my_tensor.dtype)\n",
    "print(my_tensor.device)\n",
    "print(my_tensor.shape)\n",
    "print(my_tensor.requires_grad)\n",
    "\n",
    "# Other common initialization methods\n",
    "x = torch.empty(size=(3,3))\n",
    "x = torch.zeros((3,3))\n",
    "x = torch.rand(3,3)\n",
    "x = torch.ones(3,3)\n",
    "x = torch.eye(3,3) # I, eye\n",
    "x = torch.arange(start=0, end=5, step=1)\n",
    "\n",
    "x = torch.linspace(start=0.1, end=1, steps=10)\n",
    "\n",
    "x = torch.empty(size=(1,5)).normal_(mean = 0, std=1)\n",
    "x = torch.empty(size=(1,5)).uniform_(0,1)\n",
    "x = torch.diag(torch.ones(3))\n",
    "# print(x)\n",
    "# How to initialize and convert tensors to other types (int, float, double)\n",
    "tensor = torch.arange(4)\n",
    "print(\"boolen is like {0}\".format(tensor.bool())) # boolen True/False\n",
    "print(\"int16 is like {0}\".format(tensor.short())) # int16\n",
    "print(\"in64 is like {0}\".format(tensor.long())) # int64 (Important)\n",
    "print(\"float 16 is like {0}\".format(tensor.half())) # float64\n",
    "print(\"float 32 is like {0}\".format(tensor.float())) # float32\n",
    "print(\"float 64 is like {0}\".format(tensor.double())) # float64\n",
    "\n",
    "# Array to Tensor conversion and vice-versa\n",
    "import numpy as np\n",
    "np_array = np.zeros((5, 5))\n",
    "np_array_back = tensor.numpy()\n"
   ]
  },
  {
   "cell_type": "code",
   "execution_count": 5,
   "metadata": {},
   "outputs": [
    {
     "name": "stdout",
     "output_type": "stream",
     "text": [
      "tensor([10., 10., 10.])\n"
     ]
    }
   ],
   "source": [
    "# ==================================================================== #\n",
    "#                    Tensor Math & Comparison Operation                #\n",
    "# ==================================================================== #\n",
    "\n",
    "x = torch.tensor([1, 2, 3])\n",
    "y = torch.tensor([9, 8, 7])\n",
    "\n",
    "# Addition\n",
    "z1 = torch.empty(3)\n",
    "torch.add(x, y, out=z1)\n",
    "print(z1)\n",
    "\n",
    "z2 = torch.add(x, y)\n",
    "z = x + y\n",
    "\n",
    "# Subtraction\n",
    "z = x - y\n",
    "\n",
    "# Division\n",
    "\n",
    "\n",
    "\n",
    "\n"
   ]
  },
  {
   "cell_type": "code",
   "execution_count": null,
   "metadata": {},
   "outputs": [],
   "source": []
  }
 ],
 "metadata": {
  "kernelspec": {
   "display_name": "deeplearning",
   "language": "python",
   "name": "python3"
  },
  "language_info": {
   "codemirror_mode": {
    "name": "ipython",
    "version": 3
   },
   "file_extension": ".py",
   "mimetype": "text/x-python",
   "name": "python",
   "nbconvert_exporter": "python",
   "pygments_lexer": "ipython3",
   "version": "3.9.18"
  },
  "orig_nbformat": 4
 },
 "nbformat": 4,
 "nbformat_minor": 2
}
