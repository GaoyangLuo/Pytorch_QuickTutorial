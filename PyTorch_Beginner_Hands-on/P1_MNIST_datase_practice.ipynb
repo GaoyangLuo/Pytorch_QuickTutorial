{
 "cells": [
  {
   "cell_type": "markdown",
   "metadata": {},
   "source": [
    "## P1: Realize mnist dataset\n",
    ">- **🍨 The oringal chinese version is [🔗365DeepLearning Camp](https://mp.weixin.qq.com/s/Nb93582M_5usednAKp_Jtw)**\n",
    ">- **🍖 Original author：[K同学啊 | 接辅导、项目定制](https://mtyjkh.blog.csdn.net/)**\n",
    ">- **🚀 Source：[K同学的学习圈子](https://www.yuque.com/mingtian-fkmxf/zxwb45)**\n",
    ">- **This English version is a learning translated version by Gaoyang**"
   ]
  },
  {
   "cell_type": "markdown",
   "metadata": {},
   "source": [
    "### Environment\n",
    "- Langeage environment: Python3.9\n",
    "- Compiler: Jupyter \n",
    "- Deeplearning environment: \n",
    "    - torch\n",
    "    - torchvision"
   ]
  },
  {
   "cell_type": "markdown",
   "metadata": {},
   "source": [
    "### First step: Preparation\n",
    "#### 1. Set GPU\n"
   ]
  },
  {
   "cell_type": "code",
   "execution_count": 4,
   "metadata": {},
   "outputs": [
    {
     "data": {
      "text/plain": [
       "device(type='cuda')"
      ]
     },
     "execution_count": 4,
     "metadata": {},
     "output_type": "execute_result"
    }
   ],
   "source": [
    "import torch\n",
    "import torch.nn as nn\n",
    "import matplotlib.pyplot as plt\n",
    "import torchvision\n",
    "\n",
    "device = torch.device(\"cuda\" if torch.cuda.is_available() else \"cpu\")\n",
    "\n",
    "device"
   ]
  },
  {
   "cell_type": "markdown",
   "metadata": {},
   "source": [
    "#### 2. Imput data\n",
    "Use dataset to download MNIST dataset, and devide the training set and test set.\n",
    "\n",
    "\n",
    "```torchvision.datasets.MNIST(root, train=True, transform=None, target_transform=None, download=False)```\n",
    "\n",
    "- root (string) ：location of data\n",
    "- train (string) ：True-training set，False-test set\n",
    "- download (bool,optional) : if True，download data from Internet and save it under root dir\n",
    "- transform (callable, optional )：choose one function\n",
    "- target_transform (callable,optional) ：fuction that accept the target and transform"
   ]
  },
  {
   "cell_type": "code",
   "execution_count": 5,
   "metadata": {},
   "outputs": [],
   "source": [
    "train_ds = torchvision.datasets.MNIST('data', \n",
    "                                      train=True, \n",
    "                                      transform=torchvision.transforms.ToTensor(), # transfer data to Tensor\n",
    "                                      download=True)\n",
    "\n",
    "test_ds  = torchvision.datasets.MNIST('data', \n",
    "                                      train=False, \n",
    "                                      transform=torchvision.transforms.ToTensor(), # transfer data to Tensor\n",
    "                                      download=True)"
   ]
  },
  {
   "cell_type": "markdown",
   "metadata": {},
   "source": [
    "`torch.utils.data.DataLoader` \\\n",
    "\n",
    "Function details:\\\n",
    "\n",
    "```torch.utils.data.DataLoader(dataset, batch_size=1, shuffle=None, sampler=None, batch_sampler=None, num_workers=0, collate_fn=None, pin_memory=False, drop_last=False, timeout=0, worker_init_fn=None, multiprocessing_context=None, generator=None, *, prefetch_factor=2, persistent_workers=False, pin_memory_device='')```"
   ]
  },
  {
   "cell_type": "markdown",
   "metadata": {},
   "source": [
    "Parameter explanations:\n",
    "\n",
    "- **dataset** (string): The dataset to load.\n",
    "- **batch_size** (int, optional): The number of samples per batch to load (default: 1).\n",
    "- **shuffle** (bool, optional): If `True`, reshuffles the data at every epoch.\n",
    "- **sampler** (Sampler or iterable, optional): Defines the strategy for sampling from the dataset. It can be any Iterable that implements **\\_\\_len\\_\\_**. If specified, shuffle should not be specified.\n",
    "- **batch_sampler** (Sampler or iterable, optional): Similar to sampler, but returns a batch of indices at a time. Mutually exclusive with batch_size, shuffle, sampler, and drop_last.\n",
    "- **num_workers** (int, optional): The number of subprocesses to use for data loading. 0 means that the data will be loaded in the main process (default: 0).\n",
    "- **pin_memory** (bool, optional): If True, the data loader will copy tensors to pinned memory in the device/CUDA before returning. This is useful for custom types or if the collate_fn returns a custom type batch.\n",
    "- **drop_last** (bool, optional): If the size of the dataset is not divisible by the batch size, set drop_last to True to drop the last incomplete batch. If False and the size of the dataset is not divisible by the batch size, the last batch will be kept (default: False).\n",
    "- **timeout** (numeric, optional): The timeout value for data loading. If the data is not loaded within this time, an error will be raised (default: 0).\n",
    "- **worker_init_fn** (callable, optional): If not None, this will be called on each worker subprocess after seeding and before data loading. It will be called in the order of worker IDs (an int from [0, num_workers-1]). (default: None)  "
   ]
  },
  {
   "cell_type": "code",
   "execution_count": 6,
   "metadata": {},
   "outputs": [],
   "source": [
    "batch_size = 32\n",
    "\n",
    "train_dl = torch.utils.data.DataLoader(train_ds, \n",
    "                                       batch_size=batch_size, \n",
    "                                       shuffle=True)\n",
    "\n",
    "test_dl  = torch.utils.data.DataLoader(test_ds, \n",
    "                                       batch_size=batch_size)"
   ]
  },
  {
   "cell_type": "code",
   "execution_count": 7,
   "metadata": {},
   "outputs": [
    {
     "data": {
      "text/plain": [
       "torch.Size([32, 1, 28, 28])"
      ]
     },
     "execution_count": 7,
     "metadata": {},
     "output_type": "execute_result"
    }
   ],
   "source": [
    "# choose one batch to check the type of data\n",
    "# shape：[batch_size, channel, height, weight]\n",
    "# batch_size is customed designed，channel，height and weight are the lanes, height and width of the picture\n",
    "imgs, labels = next(iter(train_dl))\n",
    "imgs.shape"
   ]
  },
  {
   "cell_type": "markdown",
   "metadata": {},
   "source": [
    "#### 3. Visialization\n",
    "\n",
    "The function `squeeze()` is to delet the dimension one from the shape of the matrix. For example, if the shape of the matrix W is (5,1), after `squeeze(W)`, the result is (5,)."
   ]
  },
  {
   "cell_type": "code",
   "execution_count": null,
   "metadata": {},
   "outputs": [],
   "source": [
    "import numpy as np\n",
    "\n",
    " #point the size of the picture, width=20,height=5(inch)\n",
    "plt.figure(figsize=(20, 5)) \n",
    "for i, imgs in enumerate(imgs[:20]):\n",
    "    #dimensionality reduction\n",
    "    npimg = np.squeeze(imgs.numpy())\n",
    "    # divide the figure into 2 rows, 10 colums，drawing i+1 sub-picture。\n",
    "    plt.subplot(2, 10, i+1)\n",
    "    plt.imshow(npimg, cmap=plt.cm.binary)\n",
    "    plt.axis('off')\n",
    "    # plt.show()"
   ]
  },
  {
   "cell_type": "code",
   "execution_count": 5,
   "metadata": {},
   "outputs": [],
   "source": [
    "import torch.nn.functional as F\n",
    "\n",
    "num_classes = 10  # type of classes of the pictures (0,1,2,3,4,5,6,7,8,9, ten in total)\n",
    "\n",
    "class Model(nn.Module):\n",
    "     def __init__(self):\n",
    "        super().__init__()\n",
    "         #extract the feature of the network\n",
    "        self.conv1 = nn.Conv2d(1, 32, kernel_size=3)  #First convolution layer, kernal size=3*3\n",
    "        self.pool1 = nn.MaxPool2d(2)                  #Setting pooling layer, kernal size=2*2\n",
    "        self.conv2 = nn.Conv2d(32, 64, kernel_size=3) #Second convolution layer,kernal size=3*3   \n",
    "        self.pool2 = nn.MaxPool2d(2) \n",
    "                                      \n",
    "        #classify the network\n",
    "        self.fc1 = nn.Linear(1600, 64)          \n",
    "        self.fc2 = nn.Linear(64, num_classes)\n",
    "     #forward propagate\n",
    "     def forward(self, x):\n",
    "        x = self.pool1(F.relu(self.conv1(x)))     \n",
    "        x = self.pool2(F.relu(self.conv2(x)))\n",
    "\n",
    "        x = torch.flatten(x, start_dim=1)\n",
    "\n",
    "        x = F.relu(self.fc1(x))\n",
    "        x = self.fc2(x)\n",
    "       \n",
    "        return x"
   ]
  },
  {
   "cell_type": "code",
   "execution_count": 7,
   "metadata": {},
   "outputs": [
    {
     "data": {
      "text/plain": [
       "=================================================================\n",
       "Layer (type:depth-idx)                   Param #\n",
       "=================================================================\n",
       "Model                                    --\n",
       "├─Conv2d: 1-1                            320\n",
       "├─MaxPool2d: 1-2                         --\n",
       "├─Conv2d: 1-3                            18,496\n",
       "├─MaxPool2d: 1-4                         --\n",
       "├─Linear: 1-5                            102,464\n",
       "├─Linear: 1-6                            650\n",
       "=================================================================\n",
       "Total params: 121,930\n",
       "Trainable params: 121,930\n",
       "Non-trainable params: 0\n",
       "================================================================="
      ]
     },
     "execution_count": 7,
     "metadata": {},
     "output_type": "execute_result"
    }
   ],
   "source": [
    "from torchinfo import summary\n",
    "#Put the model into GPU\n",
    "model = Model().to(device)\n",
    "\n",
    "summary(model)"
   ]
  },
  {
   "cell_type": "markdown",
   "metadata": {},
   "source": [
    "### Third step: Training the model\n",
    "#### 1. Set hyperparameter"
   ]
  },
  {
   "cell_type": "code",
   "execution_count": 8,
   "metadata": {},
   "outputs": [],
   "source": [
    "loss_fn    = nn.CrossEntropyLoss() # create loss function\n",
    "learn_rate = 1e-2 # learning rate\n",
    "opt        = torch.optim.SGD(model.parameters(),lr=learn_rate)"
   ]
  },
  {
   "cell_type": "markdown",
   "metadata": {},
   "source": [
    "#### 2. Compire Training function\n",
    "\n",
    "1.`optimizer.zero_grad()`\\\n",
    "The `optimizer.zero_grad()` function iterates through all the parameters of the model. It truncates the gradient flow during backpropagation using its built-in method and sets the gradient value of each parameter to zero, effectively clearing the previous gradient records.\n",
    "\n",
    "2.`loss.backward()` \\\n",
    "The `loss.backward()` function in PyTorch, implemented through the autograd package, automatically calculates the gradients based on the mathematical operations performed on the tensors.\n",
    "Specifically, torch.tensor is the fundamental class of the autograd package. If you set requires_grad=True for a tensor, it starts tracking all the operations performed on that tensor. When you call tensor.backward() after performing the operations, the gradients are automatically computed, and the gradients of the tensor accumulate in its .grad attribute.\n",
    "\n",
    "More specifically, the loss function (loss) is obtained through a series of operations on the model's weights (w). If requires_grad=True for a certain weight (w), the .grad_fn attribute of its upstream parameters (weights in subsequent layers) stores the corresponding operations. After calling loss.backward(), the gradients for each weight (w) are computed through backpropagation, and they are saved in the .grad attribute.\n",
    "\n",
    "If tensor.backward() is not called, the gradient values will be None. Therefore, it is important to call loss.backward() before optimizer.step().\n",
    "\n",
    "3.`optimizer.step()`\\\n",
    "The `optimizer.step()` function performs one optimization step, updating the parameter values using gradient descent. Since gradient descent relies on gradients, it is necessary to compute the gradients by calling loss.backward() before executing optimizer.step().\n",
    "\n",
    "Note: The optimizer is responsible for optimization using gradient descent, but it does not generate gradients. The gradients are generated by the tensor.backward() method.\""
   ]
  },
  {
   "cell_type": "code",
   "execution_count": 9,
   "metadata": {},
   "outputs": [],
   "source": [
    "# Training loop \n",
    "def train(dataloader, model, loss_fn, optimizer):\n",
    "    size = len(dataloader.dataset)  # Size of training set，60000 pictures in total\n",
    "    num_batches = len(dataloader)   # Number of batches，1875（60000/32）\n",
    "\n",
    "    train_loss, train_acc = 0, 0  #  Initialize rate of loss and accuracy\n",
    "    \n",
    "    for X, y in dataloader:  # acquire picture and label\n",
    "        X, y = X.to(device), y.to(device)\n",
    "        \n",
    "        # Calculate loss\n",
    "        pred = model(X)          # output (use prediction as output)\n",
    "        loss = loss_fn(pred, y)  # to calcualte the diviation between the prediction and ground truth，targets are ground truth，loss is the diviation between two of them\n",
    "        \n",
    "        # backward propagate\n",
    "        optimizer.zero_grad()  # clean grad\n",
    "        loss.backward()        # back prop\n",
    "        optimizer.step()       # auto-upgrade in every step\n",
    "        \n",
    "        # Record acc & loss\n",
    "        train_acc  += (pred.argmax(1) == y).type(torch.float).sum().item()\n",
    "        train_loss += loss.item()\n",
    "            \n",
    "    train_acc  /= size\n",
    "    train_loss /= num_batches\n",
    "\n",
    "    return train_acc, train_loss"
   ]
  },
  {
   "cell_type": "markdown",
   "metadata": {},
   "source": [
    "- pred.argmax(1) returns the indices of the maximum values along the first axis (i.e., rows) of the array pred. This is commonly used in multi-class classification problems, where pred is a 2D array containing the predicted probabilities, with each row representing the probability distribution for a sample.\n",
    "- (pred.argmax(1) == y) is a Boolean value, where the equality represents whether the prediction for the corresponding sample is correct (True indicates correct, False indicates incorrect).\n",
    "- .type(torch.float) converts the data type of the Boolean array to floating-point, i.e., True is converted to 1.0, and False is converted to 0.0.\n",
    "- .sum() calculates the sum of the elements in the array, resulting in the count of correctly predicted samples.\n",
    "- .item() converts the sum result to a scalar value, allowing it to be used or printed in Python.\n",
    "\n",
    "(pred.argmax(1) == y).type(torch.float).sum().item() calculates the count of correctly predicted samples and returns it as a scalar value. This is commonly used to evaluate the accuracy of a classification model or calculate the number of correctly predicted samples in a classification problem."
   ]
  },
  {
   "cell_type": "markdown",
   "metadata": {},
   "source": [
    "#### 3. Write test function\n",
    "The testing function is similar to the training function, but since it does not perform gradient descent to update the network weights, there is no need to pass in an optimizer."
   ]
  },
  {
   "cell_type": "code",
   "execution_count": 10,
   "metadata": {},
   "outputs": [],
   "source": [
    "def test (dataloader, model, loss_fn):\n",
    "    size        = len(dataloader.dataset)  #Size of testing set, 10000 pictures in total\n",
    "    num_batches = len(dataloader)          #number of batches, 313（10000/32=312.5，rounding up）\n",
    "    test_loss, test_acc = 0, 0\n",
    "    \n",
    "    #when not training, stop upgrade gradient to save RAM\n",
    "    with torch.no_grad():\n",
    "        for imgs, target in dataloader:\n",
    "            imgs, target = imgs.to(device), target.to(device)\n",
    "            \n",
    "            # calculate loss\n",
    "            target_pred = model(imgs)\n",
    "            loss        = loss_fn(target_pred, target)\n",
    "            \n",
    "            test_loss += loss.item()\n",
    "            test_acc  += (target_pred.argmax(1) == target).type(torch.float).sum().item()\n",
    "\n",
    "    test_acc  /= size\n",
    "    test_loss /= num_batches\n",
    "\n",
    "    return test_acc, test_loss"
   ]
  },
  {
   "cell_type": "markdown",
   "metadata": {},
   "source": [
    "#### 4. Training\n",
    "\n",
    "1.`model.train()`\\\n",
    "The purpose of model.train() is to enable Batch Normalization and Dropout.\n",
    "\n",
    "If the model includes Batch Normalization (BN) layers and Dropout, model.train() needs to be added during training. model.train() ensures that BN layers utilize the mean and variance of each batch of data. For Dropout, model.train() randomly selects a subset of network connections to train and update the parameters.\n",
    "\n",
    "2.`model.eval()`\\\n",
    "The purpose of model.eval() is to disable Batch Normalization and Dropout.\n",
    "\n",
    "If the model includes Batch Normalization (BN) layers and Dropout, model.eval() should be added during testing. model.eval() ensures that BN layers utilize the mean and variance of the entire training data, maintaining consistent mean and variance during the testing process. For Dropout, model.eval() utilizes all the network connections, without randomly dropping neurons.\n",
    "\n",
    "After training the model with the training samples, the generated model (model) is used for testing samples. Before using model(test), model.eval() needs to be added. Otherwise, even with input data, it will still modify the weights. This behavior is due to the presence of BN layers and Dropout in the model.\n"
   ]
  },
  {
   "cell_type": "code",
   "execution_count": 12,
   "metadata": {},
   "outputs": [
    {
     "name": "stdout",
     "output_type": "stream",
     "text": [
      "Epoch: 1, Train_acc:98.8%, Train_loss:0.041, Test_acc:98.9%，Test_loss:0.034\n",
      "Epoch: 2, Train_acc:98.9%, Train_loss:0.038, Test_acc:98.6%，Test_loss:0.041\n",
      "Epoch: 3, Train_acc:99.0%, Train_loss:0.035, Test_acc:98.5%，Test_loss:0.047\n",
      "Epoch: 4, Train_acc:99.0%, Train_loss:0.033, Test_acc:98.9%，Test_loss:0.032\n",
      "Epoch: 5, Train_acc:99.0%, Train_loss:0.032, Test_acc:98.9%，Test_loss:0.034\n",
      "Epoch: 6, Train_acc:99.1%, Train_loss:0.029, Test_acc:99.0%，Test_loss:0.031\n",
      "Epoch: 7, Train_acc:99.2%, Train_loss:0.027, Test_acc:98.9%，Test_loss:0.034\n",
      "Epoch: 8, Train_acc:99.2%, Train_loss:0.026, Test_acc:98.7%，Test_loss:0.038\n",
      "Epoch: 9, Train_acc:99.3%, Train_loss:0.025, Test_acc:98.9%，Test_loss:0.033\n",
      "Epoch:10, Train_acc:99.3%, Train_loss:0.023, Test_acc:98.8%，Test_loss:0.033\n",
      "Epoch:11, Train_acc:99.4%, Train_loss:0.022, Test_acc:98.9%，Test_loss:0.032\n",
      "Epoch:12, Train_acc:99.3%, Train_loss:0.021, Test_acc:99.0%，Test_loss:0.031\n",
      "Epoch:13, Train_acc:99.4%, Train_loss:0.020, Test_acc:98.9%，Test_loss:0.033\n",
      "Epoch:14, Train_acc:99.4%, Train_loss:0.019, Test_acc:99.0%，Test_loss:0.028\n",
      "Epoch:15, Train_acc:99.5%, Train_loss:0.018, Test_acc:98.9%，Test_loss:0.029\n",
      "Epoch:16, Train_acc:99.5%, Train_loss:0.016, Test_acc:98.8%，Test_loss:0.034\n",
      "Epoch:17, Train_acc:99.5%, Train_loss:0.016, Test_acc:99.0%，Test_loss:0.030\n",
      "Epoch:18, Train_acc:99.6%, Train_loss:0.015, Test_acc:98.9%，Test_loss:0.032\n",
      "Epoch:19, Train_acc:99.6%, Train_loss:0.014, Test_acc:99.0%，Test_loss:0.032\n",
      "Epoch:20, Train_acc:99.6%, Train_loss:0.013, Test_acc:99.1%，Test_loss:0.028\n",
      "Done\n"
     ]
    }
   ],
   "source": [
    "epochs     = 20\n",
    "train_loss = []\n",
    "train_acc  = []\n",
    "test_loss  = []\n",
    "test_acc   = []\n",
    "\n",
    "for epoch in range(epochs):\n",
    "    model.train()\n",
    "    epoch_train_acc, epoch_train_loss = train(train_dl, model, loss_fn, opt)\n",
    "    \n",
    "    model.eval()\n",
    "    epoch_test_acc, epoch_test_loss = test(test_dl, model, loss_fn)\n",
    "    \n",
    "    train_acc.append(epoch_train_acc)\n",
    "    train_loss.append(epoch_train_loss)\n",
    "    test_acc.append(epoch_test_acc)\n",
    "    test_loss.append(epoch_test_loss)\n",
    "    \n",
    "    template = ('Epoch:{:2d}, Train_acc:{:.1f}%, Train_loss:{:.3f}, Test_acc:{:.1f}%,Test_loss:{:.3f}')\n",
    "    print(template.format(epoch+1, epoch_train_acc*100, epoch_train_loss, epoch_test_acc*100, epoch_test_loss))\n",
    "print('Done')"
   ]
  },
  {
   "cell_type": "markdown",
   "metadata": {},
   "source": [
    "### Visialization"
   ]
  },
  {
   "cell_type": "code",
   "execution_count": 15,
   "metadata": {},
   "outputs": [
    {
     "data": {
      "image/png": "[encoded data removed]",
      "text/plain": [
       "<Figure size 1200x300 with 2 Axes>"
      ]
     },
     "metadata": {},
     "output_type": "display_data"
    }
   ],
   "source": [
    "import matplotlib.pyplot as plt\n",
    "#hide warnings\n",
    "import warnings\n",
    "warnings.filterwarnings(\"ignore\")               #ignore warinings\n",
    "plt.rcParams['font.sans-serif']    = ['SimHei'] #make it work on Chinese label\n",
    "plt.rcParams['axes.unicode_minus'] = False      #make it work on '-'\n",
    "plt.rcParams['figure.dpi']         = 100        #resolution of picture\n",
    "\n",
    "epochs_range = range(epochs)\n",
    "\n",
    "plt.figure(figsize=(12, 3))\n",
    "plt.subplot(1, 2, 1)\n",
    "\n",
    "plt.plot(epochs_range, train_acc, label='Training Accuracy')\n",
    "plt.plot(epochs_range, test_acc, label='Test Accuracy')\n",
    "plt.legend(loc='lower right')\n",
    "plt.title('Training and Validation Accuracy')\n",
    "\n",
    "plt.subplot(1, 2, 2)\n",
    "plt.plot(epochs_range, train_loss, label='Training Loss')\n",
    "plt.plot(epochs_range, test_loss, label='Test Loss')\n",
    "plt.legend(loc='upper right')\n",
    "plt.title('Training and Validation Loss')\n",
    "plt.show()"
   ]
  },
  {
   "cell_type": "markdown",
   "metadata": {},
   "source": []
  }
 ],
 "metadata": {
  "kernelspec": {
   "display_name": "Python 3 (ipykernel)",
   "language": "python",
   "name": "python3"
  },
  "language_info": {
   "codemirror_mode": {
    "name": "ipython",
    "version": 3
   },
   "file_extension": ".py",
   "mimetype": "text/x-python",
   "name": "python",
   "nbconvert_exporter": "python",
   "pygments_lexer": "ipython3",
   "version": "3.9.18"
  }
 },
 "nbformat": 4,
 "nbformat_minor": 4
}
